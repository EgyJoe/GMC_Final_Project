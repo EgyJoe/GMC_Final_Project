{
 "cells": [
  {
   "cell_type": "code",
   "execution_count": null,
   "metadata": {},
   "outputs": [],
   "source": [
    "#Scraping Sale section\n",
    "\n",
    "from datetime import datetime\n",
    "import json\n",
    "import requests\n",
    "import io\n",
    "response = requests.post('https://app.sakneen.com/apis/marketplace/filters/v2?limit=30&page=1')\n",
    "x = json.loads(response.text)\n",
    "pages = x['numberOfPages']\n",
    "rows=[]\n",
    "for i in range(1, pages+1):\n",
    "    response = requests.post('https://app.sakneen.com/apis/marketplace/filters/v2?limit=30&page=' + str(i))\n",
    "    x = json.loads(response.text)\n",
    "    rows+=x['data']\n",
    "\n",
    "dt = datetime.now()\n",
    "dt = dt.strftime('%Y-%m-%d@%H.%M.%S')\n",
    "with io.open('Sakneen_Sale_' + str(dt) + '.json', encoding='utf-8', mode = \"w\") as f:\n",
    "    f.write(\"[\\n\")\n",
    "    i = 1\n",
    "    for row in rows:\n",
    "        x = json.dumps(row, ensure_ascii=False)\n",
    "        if i != len(rows):\n",
    "            f.write(\"\\t\" + x + \",\\n\")\n",
    "        else:\n",
    "            f.write(\"\\t\" + x + \"\\n\")\n",
    "        i+=1\n",
    "    f.write(\"]\")\n",
    "print(len(rows), 'scraped lisitngs.')"
   ]
  }
 ],
 "metadata": {
  "language_info": {
   "name": "python"
  },
  "orig_nbformat": 4
 },
 "nbformat": 4,
 "nbformat_minor": 2
}
