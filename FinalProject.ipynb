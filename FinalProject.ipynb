{
 "cells": [
  {
   "cell_type": "code",
   "execution_count": null,
   "metadata": {},
   "outputs": [],
   "source": [
    "#Scraping Sale section from Sakneen.com\n",
    "\n",
    "from datetime import datetime\n",
    "import json\n",
    "import requests\n",
    "import io\n",
    "response = requests.post('https://app.sakneen.com/apis/marketplace/filters/v2?limit=30&page=1')\n",
    "x = json.loads(response.text)\n",
    "pages = x['numberOfPages']\n",
    "rows=[]\n",
    "for i in range(1, pages+1):\n",
    "    response = requests.post('https://app.sakneen.com/apis/marketplace/filters/v2?limit=30&page=' + str(i))\n",
    "    x = json.loads(response.text)\n",
    "    rows+=x['data']\n",
    "\n",
    "dt = datetime.now()\n",
    "dt = dt.strftime('%Y-%m-%d@%H.%M.%S')\n",
    "with io.open('Sakneen_Sale_' + str(dt) + '.json', encoding='utf-8', mode = \"w\") as f:\n",
    "    f.write(\"[\\n\")\n",
    "    i = 1\n",
    "    for row in rows:\n",
    "        x = json.dumps(row, ensure_ascii=False)\n",
    "        if i != len(rows):\n",
    "            f.write(\"\\t\" + x + \",\\n\")\n",
    "        else:\n",
    "            f.write(\"\\t\" + x + \"\\n\")\n",
    "        i+=1\n",
    "    f.write(\"]\")\n",
    "#print(len(rows), 'scraped lisitngs.')"
   ]
  },
  {
   "cell_type": "code",
   "execution_count": 4,
   "metadata": {},
   "outputs": [],
   "source": [
    "# Loading liberaries and our dataset\n",
    "import numpy as np\n",
    "import pandas as pd \n",
    "import seaborn as sns \n",
    "import matplotlib.pyplot as plt\n",
    "from sklearn.model_selection import train_test_split\n",
    "from sklearn import linear_model\n",
    "from sklearn.linear_model import LinearRegression\n",
    "from sklearn.preprocessing import PolynomialFeatures\n",
    "from sklearn import metrics\n",
    "from mpl_toolkits.mplot3d import Axes3D\n",
    "from sklearn.linear_model import LogisticRegression\n",
    "from sklearn.preprocessing import LabelEncoder, StandardScaler\n",
    "%matplotlib inline\n",
    "\n",
    "df = pd.read_csv(r\"Sakneen.csv\", encoding=\"utf-8-sig\")\n"
   ]
  },
  {
   "cell_type": "code",
   "execution_count": 22,
   "metadata": {},
   "outputs": [
    {
     "name": "stdout",
     "output_type": "stream",
     "text": [
      "Model accuracy\n",
      "10.2\n"
     ]
    },
    {
     "name": "stderr",
     "output_type": "stream",
     "text": [
      "C:\\Users\\youss\\AppData\\Local\\Packages\\PythonSoftwareFoundation.Python.3.10_qbz5n2kfra8p0\\LocalCache\\local-packages\\Python310\\site-packages\\sklearn\\linear_model\\_logistic.py:814: ConvergenceWarning: lbfgs failed to converge (status=1):\n",
      "STOP: TOTAL NO. of ITERATIONS REACHED LIMIT.\n",
      "\n",
      "Increase the number of iterations (max_iter) or scale the data as shown in:\n",
      "    https://scikit-learn.org/stable/modules/preprocessing.html\n",
      "Please also refer to the documentation for alternative solver options:\n",
      "    https://scikit-learn.org/stable/modules/linear_model.html#logistic-regression\n",
      "  n_iter_i = _check_optimize_result(\n"
     ]
    }
   ],
   "source": [
    "# Logistic Regression Model\n",
    "le = LabelEncoder()\n",
    "df['finishingType'] = le.fit_transform(df['finishingType'])\n",
    "df['unitType'] = le.fit_transform(df['unitType'])\n",
    "df['city.nameEnglish'] = le.fit_transform(df['city.nameEnglish'])\n",
    "df['district.nameEnglish'] = le.fit_transform(df['district.nameEnglish'])\n",
    "\n",
    "y=df['totalPrice']\n",
    "features = ['bua', 'IsCompound', 'bedrooms',\n",
    "'bathrooms', 'land', \n",
    "'city.nameEnglish',  'finishingType', 'unitType']\n",
    "X=df[features]\n",
    "\n",
    "s = StandardScaler()\n",
    "X = s.fit_transform(X)\n",
    "\n",
    "X_train,X_test,y_train,y_test = train_test_split(X,y)\n",
    "\n",
    "lr = LogisticRegression()\n",
    "lr.fit(X_train,y_train)\n",
    "y_pred = lr.predict(X)\n",
    "y_prob = lr.predict_proba(X)\n",
    "\n",
    "df['Calculated Price'] = y_pred\n",
    "\n",
    "# Save results\n",
    "df.to_csv(r'result.csv', encoding=\"utf-8-sig\")\n",
    "\n",
    "# Model exact accuracy\n",
    "from sklearn.metrics import accuracy_score  \n",
    "yyy = lr.predict(X)  \n",
    "accuracy = accuracy_score(y,yyy)*100  \n",
    "print (\"Model accuracy\")  \n",
    "print(accuracy)"
   ]
  },
  {
   "cell_type": "code",
   "execution_count": 34,
   "metadata": {},
   "outputs": [
    {
     "data": {
      "image/png": "[encoded data removed]",
      "text/plain": [
       "<Figure size 432x288 with 1 Axes>"
      ]
     },
     "metadata": {
      "needs_background": "light"
     },
     "output_type": "display_data"
    }
   ],
   "source": [
    "\n",
    "# Polynomial Model\n",
    "\n",
    "df = pd.read_csv(r\"Sakneen.csv\", encoding=\"utf-8-sig\")\n",
    "\n",
    "le = LabelEncoder()\n",
    "df['finishingType'] = le.fit_transform(df['finishingType'])\n",
    "df['unitType'] = le.fit_transform(df['unitType'])\n",
    "df['city.nameEnglish'] = le.fit_transform(df['city.nameEnglish'])\n",
    "df['district.nameEnglish'] = le.fit_transform(df['district.nameEnglish'])\n",
    "\n",
    "features = ['bua', 'IsCompound', 'bedrooms',\n",
    "'bathrooms', 'land', 'garage',\n",
    "'city.nameEnglish', 'district.nameEnglish', 'finishingType', 'unitType']\n",
    "\n",
    "\n",
    "train_df, test_df = train_test_split(df, test_size=0.2, random_state=42)\n",
    "\n",
    "df.sort_values(\"bua\", inplace=True)\n",
    "train_df.sort_values(\"bua\", inplace=True)\n",
    "test_df.sort_values(\"bua\", inplace=True)\n",
    "\n",
    "x_linear_regression = df[\"bua\"].values.reshape(-1,1)\n",
    "x_linear_regression_training = train_df[\"bua\"].values.reshape(-1,1)\n",
    "x_linear_regression_testing = test_df[\"bua\"].values.reshape(-1,1)\n",
    "\n",
    "x_multilinear_regression = df[ [\"bua\", \"bedrooms\", \"IsCompound\"] ]\n",
    "x_multilinear_regression_training = train_df[ [\"bua\", \"bedrooms\", \"IsCompound\"] ].values\n",
    "x_multilinear_regression_testing = test_df[ [\"bua\", \"bedrooms\", \"IsCompound\"] ].values\n",
    "\n",
    "poly_multi_columns = [ \"bua\", \"bedrooms\", \"IsCompound\", \"bathrooms\", \"unitType\" ]\n",
    "poly = PolynomialFeatures(degree = 2) \n",
    "x_polynomial = df[ poly_multi_columns ]\n",
    "x_polynomial = poly.fit_transform(x_polynomial)\n",
    "x_polynomial_multi_training = train_df[ poly_multi_columns ].values\n",
    "x_polynomial_multi_testing = test_df[ poly_multi_columns ].values\n",
    "x_polynomial_multi_training = poly.fit_transform(x_polynomial_multi_training)\n",
    "x_polynomial_multi_testing = poly.fit_transform(x_polynomial_multi_testing)\n",
    "\n",
    "y = df[\"totalPrice\"].values.reshape(-1, 1)\n",
    "y_training = train_df[\"totalPrice\"].values.reshape(-1, 1)\n",
    "y_testing = test_df[\"totalPrice\"].values.reshape(-1, 1)\n",
    "\n",
    "model_poly=LinearRegression()   #build polynomial multi regression model\n",
    "model_poly.fit(x_polynomial_multi_training,y_training)  #fitting the training data\n",
    "predicted_poly=model_poly.predict(x_polynomial_multi_testing) #testing our model’s performance\n",
    "\n",
    "plt.scatter(x_linear_regression, y)\n",
    "plt.title(\"Polynomial Multilinear Regression (Showing 1 feature)\")\n",
    "plt.ylabel(\"Price\")\n",
    "plt.xlabel(\"Living Area/SQM\")\n",
    "plt.plot(x_linear_regression,model_poly.predict(x_polynomial),color=\"k\")\n",
    "plt.show()"
   ]
  }
 ],
 "metadata": {
  "interpreter": {
   "hash": "5440eb285807f6a6b5f27adaaa467ca1e98fbe8f986bb43ce029c634c16c726f"
  },
  "kernelspec": {
   "display_name": "Python 3.10.4 64-bit (windows store)",
   "language": "python",
   "name": "python3"
  },
  "language_info": {
   "codemirror_mode": {
    "name": "ipython",
    "version": 3
   },
   "file_extension": ".py",
   "mimetype": "text/x-python",
   "name": "python",
   "nbconvert_exporter": "python",
   "pygments_lexer": "ipython3",
   "version": "3.10.4"
  },
  "orig_nbformat": 4
 },
 "nbformat": 4,
 "nbformat_minor": 2
}
